{
 "cells": [
  {
   "cell_type": "markdown",
   "id": "553a0ff6",
   "metadata": {},
   "source": [
    "# SHALINI S\n",
    "\n",
    "# A Project for an Internship at \"TECHNOHACKS EDUTECH\"\n",
    "\n",
    "\n",
    "# Task 7 : Heart Disease Prediction\n",
    "\n",
    "# Dataset : \"Heart.csv\""
   ]
  },
  {
   "cell_type": "markdown",
   "id": "b055d405",
   "metadata": {},
   "source": [
    "Importing modules"
   ]
  },
  {
   "cell_type": "code",
   "execution_count": 4,
   "id": "6f72351f",
   "metadata": {},
   "outputs": [],
   "source": [
    "import numpy as np\n",
    "import pandas as pd\n",
    "import matplotlib.pyplot as plt\n",
    "import seaborn as sns\n",
    "\n",
    "%matplotlib inline\n",
    "\n",
    "import warnings\n",
    "warnings.filterwarnings('ignore')"
   ]
  },
  {
   "cell_type": "markdown",
   "id": "4e55ebf1",
   "metadata": {},
   "source": [
    "Loading Dataset"
   ]
  },
  {
   "cell_type": "code",
   "execution_count": 5,
   "id": "3a3759fe",
   "metadata": {},
   "outputs": [
    {
     "data": {
      "text/html": [
       "<div>\n",
       "<style scoped>\n",
       "    .dataframe tbody tr th:only-of-type {\n",
       "        vertical-align: middle;\n",
       "    }\n",
       "\n",
       "    .dataframe tbody tr th {\n",
       "        vertical-align: top;\n",
       "    }\n",
       "\n",
       "    .dataframe thead th {\n",
       "        text-align: right;\n",
       "    }\n",
       "</style>\n",
       "<table border=\"1\" class=\"dataframe\">\n",
       "  <thead>\n",
       "    <tr style=\"text-align: right;\">\n",
       "      <th></th>\n",
       "      <th>age</th>\n",
       "      <th>sex</th>\n",
       "      <th>cp</th>\n",
       "      <th>trestbps</th>\n",
       "      <th>chol</th>\n",
       "      <th>fbs</th>\n",
       "      <th>restecg</th>\n",
       "      <th>thalach</th>\n",
       "      <th>exang</th>\n",
       "      <th>oldpeak</th>\n",
       "      <th>slope</th>\n",
       "      <th>ca</th>\n",
       "      <th>thal</th>\n",
       "      <th>target</th>\n",
       "    </tr>\n",
       "  </thead>\n",
       "  <tbody>\n",
       "    <tr>\n",
       "      <th>0</th>\n",
       "      <td>52</td>\n",
       "      <td>1</td>\n",
       "      <td>0</td>\n",
       "      <td>125</td>\n",
       "      <td>212</td>\n",
       "      <td>0</td>\n",
       "      <td>1</td>\n",
       "      <td>168</td>\n",
       "      <td>0</td>\n",
       "      <td>1.0</td>\n",
       "      <td>2</td>\n",
       "      <td>2</td>\n",
       "      <td>3</td>\n",
       "      <td>0</td>\n",
       "    </tr>\n",
       "    <tr>\n",
       "      <th>1</th>\n",
       "      <td>53</td>\n",
       "      <td>1</td>\n",
       "      <td>0</td>\n",
       "      <td>140</td>\n",
       "      <td>203</td>\n",
       "      <td>1</td>\n",
       "      <td>0</td>\n",
       "      <td>155</td>\n",
       "      <td>1</td>\n",
       "      <td>3.1</td>\n",
       "      <td>0</td>\n",
       "      <td>0</td>\n",
       "      <td>3</td>\n",
       "      <td>0</td>\n",
       "    </tr>\n",
       "    <tr>\n",
       "      <th>2</th>\n",
       "      <td>70</td>\n",
       "      <td>1</td>\n",
       "      <td>0</td>\n",
       "      <td>145</td>\n",
       "      <td>174</td>\n",
       "      <td>0</td>\n",
       "      <td>1</td>\n",
       "      <td>125</td>\n",
       "      <td>1</td>\n",
       "      <td>2.6</td>\n",
       "      <td>0</td>\n",
       "      <td>0</td>\n",
       "      <td>3</td>\n",
       "      <td>0</td>\n",
       "    </tr>\n",
       "    <tr>\n",
       "      <th>3</th>\n",
       "      <td>61</td>\n",
       "      <td>1</td>\n",
       "      <td>0</td>\n",
       "      <td>148</td>\n",
       "      <td>203</td>\n",
       "      <td>0</td>\n",
       "      <td>1</td>\n",
       "      <td>161</td>\n",
       "      <td>0</td>\n",
       "      <td>0.0</td>\n",
       "      <td>2</td>\n",
       "      <td>1</td>\n",
       "      <td>3</td>\n",
       "      <td>0</td>\n",
       "    </tr>\n",
       "    <tr>\n",
       "      <th>4</th>\n",
       "      <td>62</td>\n",
       "      <td>0</td>\n",
       "      <td>0</td>\n",
       "      <td>138</td>\n",
       "      <td>294</td>\n",
       "      <td>1</td>\n",
       "      <td>1</td>\n",
       "      <td>106</td>\n",
       "      <td>0</td>\n",
       "      <td>1.9</td>\n",
       "      <td>1</td>\n",
       "      <td>3</td>\n",
       "      <td>2</td>\n",
       "      <td>0</td>\n",
       "    </tr>\n",
       "  </tbody>\n",
       "</table>\n",
       "</div>"
      ],
      "text/plain": [
       "   age  sex  cp  trestbps  chol  fbs  restecg  thalach  exang  oldpeak  slope  \\\n",
       "0   52    1   0       125   212    0        1      168      0      1.0      2   \n",
       "1   53    1   0       140   203    1        0      155      1      3.1      0   \n",
       "2   70    1   0       145   174    0        1      125      1      2.6      0   \n",
       "3   61    1   0       148   203    0        1      161      0      0.0      2   \n",
       "4   62    0   0       138   294    1        1      106      0      1.9      1   \n",
       "\n",
       "   ca  thal  target  \n",
       "0   2     3       0  \n",
       "1   0     3       0  \n",
       "2   0     3       0  \n",
       "3   1     3       0  \n",
       "4   3     2       0  "
      ]
     },
     "execution_count": 5,
     "metadata": {},
     "output_type": "execute_result"
    }
   ],
   "source": [
    "dataset = pd.read_csv('Heart.csv')\n",
    "dataset.head()"
   ]
  },
  {
   "cell_type": "markdown",
   "id": "31e5c97f",
   "metadata": {},
   "source": [
    "Exploratory Data Analysis (EDA)"
   ]
  },
  {
   "cell_type": "code",
   "execution_count": 6,
   "id": "97b552d4",
   "metadata": {},
   "outputs": [
    {
     "name": "stdout",
     "output_type": "stream",
     "text": [
      "1    526\n",
      "0    499\n",
      "Name: target, dtype: int64\n"
     ]
    },
    {
     "data": {
      "image/png": "[encoded data removed]",
      "text/plain": [
       "<Figure size 432x288 with 1 Axes>"
      ]
     },
     "metadata": {
      "needs_background": "light"
     },
     "output_type": "display_data"
    }
   ],
   "source": [
    "y = dataset[\"target\"]\n",
    "\n",
    "sns.countplot(y)\n",
    "\n",
    "\n",
    "target_temp = dataset.target.value_counts()\n",
    "\n",
    "print(target_temp)"
   ]
  },
  {
   "cell_type": "code",
   "execution_count": 7,
   "id": "beaf9b63",
   "metadata": {},
   "outputs": [
    {
     "name": "stdout",
     "output_type": "stream",
     "text": [
      "Percentage of patience without heart problems: 164.69\n",
      "Percentage of patience with heart problems: 173.6\n"
     ]
    }
   ],
   "source": [
    "print(\"Percentage of patience without heart problems: \"+str(round(target_temp[0]*100/303,2)))\n",
    "print(\"Percentage of patience with heart problems: \"+str(round(target_temp[1]*100/303,2)))"
   ]
  },
  {
   "cell_type": "markdown",
   "id": "0fe02fa0",
   "metadata": {},
   "source": [
    "Analysing the 'Chest Pain Type' feature"
   ]
  },
  {
   "cell_type": "code",
   "execution_count": 8,
   "id": "14d7ac1e",
   "metadata": {},
   "outputs": [
    {
     "data": {
      "text/plain": [
       "array([0, 1, 2, 3], dtype=int64)"
      ]
     },
     "execution_count": 8,
     "metadata": {},
     "output_type": "execute_result"
    }
   ],
   "source": [
    "dataset[\"cp\"].unique()"
   ]
  },
  {
   "cell_type": "code",
   "execution_count": 9,
   "id": "55d0e985",
   "metadata": {},
   "outputs": [
    {
     "data": {
      "text/plain": [
       "<AxesSubplot:xlabel='cp', ylabel='target'>"
      ]
     },
     "execution_count": 9,
     "metadata": {},
     "output_type": "execute_result"
    },
    {
     "data": {
      "image/png": "[encoded data removed]",
      "text/plain": [
       "<Figure size 432x288 with 1 Axes>"
      ]
     },
     "metadata": {
      "needs_background": "light"
     },
     "output_type": "display_data"
    }
   ],
   "source": [
    "sns.barplot(x=dataset[\"cp\"],y=y)"
   ]
  },
  {
   "cell_type": "markdown",
   "id": "7e774caf",
   "metadata": {},
   "source": [
    "Analysing the FBS feature"
   ]
  },
  {
   "cell_type": "code",
   "execution_count": 10,
   "id": "446dab06",
   "metadata": {},
   "outputs": [
    {
     "data": {
      "text/plain": [
       "count    1025.000000\n",
       "mean        0.149268\n",
       "std         0.356527\n",
       "min         0.000000\n",
       "25%         0.000000\n",
       "50%         0.000000\n",
       "75%         0.000000\n",
       "max         1.000000\n",
       "Name: fbs, dtype: float64"
      ]
     },
     "execution_count": 10,
     "metadata": {},
     "output_type": "execute_result"
    }
   ],
   "source": [
    "dataset[\"fbs\"].describe()"
   ]
  },
  {
   "cell_type": "code",
   "execution_count": 11,
   "id": "cf240160",
   "metadata": {},
   "outputs": [
    {
     "data": {
      "text/plain": [
       "array([0, 1], dtype=int64)"
      ]
     },
     "execution_count": 11,
     "metadata": {},
     "output_type": "execute_result"
    }
   ],
   "source": [
    "dataset[\"fbs\"].unique()"
   ]
  },
  {
   "cell_type": "code",
   "execution_count": 12,
   "id": "36a143b0",
   "metadata": {},
   "outputs": [
    {
     "data": {
      "text/plain": [
       "<AxesSubplot:xlabel='fbs', ylabel='target'>"
      ]
     },
     "execution_count": 12,
     "metadata": {},
     "output_type": "execute_result"
    },
    {
     "data": {
      "image/png": "[encoded data removed]",
      "text/plain": [
       "<Figure size 432x288 with 1 Axes>"
      ]
     },
     "metadata": {
      "needs_background": "light"
     },
     "output_type": "display_data"
    }
   ],
   "source": [
    "sns.barplot(x=dataset[\"fbs\"],y=y)"
   ]
  },
  {
   "cell_type": "markdown",
   "id": "0dee389f",
   "metadata": {},
   "source": [
    "Analysing the restecg feature"
   ]
  },
  {
   "cell_type": "code",
   "execution_count": 13,
   "id": "9809f9b0",
   "metadata": {},
   "outputs": [
    {
     "data": {
      "text/plain": [
       "array([1, 0, 2], dtype=int64)"
      ]
     },
     "execution_count": 13,
     "metadata": {},
     "output_type": "execute_result"
    }
   ],
   "source": [
    "dataset[\"restecg\"].unique()"
   ]
  },
  {
   "cell_type": "code",
   "execution_count": 14,
   "id": "763f98ad",
   "metadata": {},
   "outputs": [
    {
     "data": {
      "text/plain": [
       "<AxesSubplot:xlabel='restecg', ylabel='target'>"
      ]
     },
     "execution_count": 14,
     "metadata": {},
     "output_type": "execute_result"
    },
    {
     "data": {
      "image/png": "[encoded data removed]",
      "text/plain": [
       "<Figure size 432x288 with 1 Axes>"
      ]
     },
     "metadata": {
      "needs_background": "light"
     },
     "output_type": "display_data"
    }
   ],
   "source": [
    "sns.barplot(x=dataset[\"restecg\"],y=y)"
   ]
  },
  {
   "cell_type": "markdown",
   "id": "b893c2f8",
   "metadata": {},
   "source": [
    "Analysing the 'exang' feature"
   ]
  },
  {
   "cell_type": "code",
   "execution_count": 15,
   "id": "f3e2e580",
   "metadata": {},
   "outputs": [
    {
     "data": {
      "text/plain": [
       "array([0, 1], dtype=int64)"
      ]
     },
     "execution_count": 15,
     "metadata": {},
     "output_type": "execute_result"
    }
   ],
   "source": [
    "dataset[\"exang\"].unique()"
   ]
  },
  {
   "cell_type": "code",
   "execution_count": 16,
   "id": "42a21855",
   "metadata": {},
   "outputs": [
    {
     "data": {
      "text/plain": [
       "<AxesSubplot:xlabel='exang', ylabel='target'>"
      ]
     },
     "execution_count": 16,
     "metadata": {},
     "output_type": "execute_result"
    },
    {
     "data": {
      "image/png": "[encoded data removed]",
      "text/plain": [
       "<Figure size 432x288 with 1 Axes>"
      ]
     },
     "metadata": {
      "needs_background": "light"
     },
     "output_type": "display_data"
    }
   ],
   "source": [
    "sns.barplot(x=dataset[\"exang\"],y=y)"
   ]
  },
  {
   "cell_type": "markdown",
   "id": "6f81952b",
   "metadata": {},
   "source": [
    "Analysing the Slope feature"
   ]
  },
  {
   "cell_type": "code",
   "execution_count": 17,
   "id": "5c5ef136",
   "metadata": {},
   "outputs": [
    {
     "data": {
      "text/plain": [
       "array([2, 0, 1], dtype=int64)"
      ]
     },
     "execution_count": 17,
     "metadata": {},
     "output_type": "execute_result"
    }
   ],
   "source": [
    "dataset[\"slope\"].unique()"
   ]
  },
  {
   "cell_type": "code",
   "execution_count": 18,
   "id": "890ef497",
   "metadata": {},
   "outputs": [
    {
     "data": {
      "text/plain": [
       "<AxesSubplot:xlabel='slope', ylabel='target'>"
      ]
     },
     "execution_count": 18,
     "metadata": {},
     "output_type": "execute_result"
    },
    {
     "data": {
      "image/png": "[encoded data removed]",
      "text/plain": [
       "<Figure size 432x288 with 1 Axes>"
      ]
     },
     "metadata": {
      "needs_background": "light"
     },
     "output_type": "display_data"
    }
   ],
   "source": [
    "sns.barplot(x=dataset[\"slope\"],y=y)"
   ]
  },
  {
   "cell_type": "markdown",
   "id": "a714351f",
   "metadata": {},
   "source": [
    "Analysing the 'ca' feature"
   ]
  },
  {
   "cell_type": "markdown",
   "id": "34eeffc2",
   "metadata": {},
   "source": [
    "number of major vessels (0-3) colored by flourosopy"
   ]
  },
  {
   "cell_type": "code",
   "execution_count": 19,
   "id": "bd5c184d",
   "metadata": {},
   "outputs": [
    {
     "data": {
      "text/plain": [
       "array([2, 0, 1, 3, 4], dtype=int64)"
      ]
     },
     "execution_count": 19,
     "metadata": {},
     "output_type": "execute_result"
    }
   ],
   "source": [
    "dataset[\"ca\"].unique()"
   ]
  },
  {
   "cell_type": "code",
   "execution_count": 20,
   "id": "79b7e9c9",
   "metadata": {},
   "outputs": [
    {
     "data": {
      "text/plain": [
       "<AxesSubplot:xlabel='ca', ylabel='count'>"
      ]
     },
     "execution_count": 20,
     "metadata": {},
     "output_type": "execute_result"
    },
    {
     "data": {
      "image/png": "[encoded data removed]",
      "text/plain": [
       "<Figure size 432x288 with 1 Axes>"
      ]
     },
     "metadata": {
      "needs_background": "light"
     },
     "output_type": "display_data"
    }
   ],
   "source": [
    "sns.countplot(dataset[\"ca\"])"
   ]
  },
  {
   "cell_type": "code",
   "execution_count": 21,
   "id": "49e9aa30",
   "metadata": {},
   "outputs": [
    {
     "data": {
      "text/plain": [
       "<AxesSubplot:xlabel='ca', ylabel='target'>"
      ]
     },
     "execution_count": 21,
     "metadata": {},
     "output_type": "execute_result"
    },
    {
     "data": {
      "image/png": "[encoded data removed]",
      "text/plain": [
       "<Figure size 432x288 with 1 Axes>"
      ]
     },
     "metadata": {
      "needs_background": "light"
     },
     "output_type": "display_data"
    }
   ],
   "source": [
    "sns.barplot(x=dataset[\"ca\"],y=y)"
   ]
  },
  {
   "cell_type": "markdown",
   "id": "ecf31a22",
   "metadata": {},
   "source": [
    "Analysing the 'thal' feature"
   ]
  },
  {
   "cell_type": "code",
   "execution_count": 22,
   "id": "78b01a32",
   "metadata": {},
   "outputs": [
    {
     "data": {
      "text/plain": [
       "array([3, 2, 1, 0], dtype=int64)"
      ]
     },
     "execution_count": 22,
     "metadata": {},
     "output_type": "execute_result"
    }
   ],
   "source": [
    "dataset[\"thal\"].unique()"
   ]
  },
  {
   "cell_type": "code",
   "execution_count": 23,
   "id": "c99f382c",
   "metadata": {},
   "outputs": [
    {
     "data": {
      "text/plain": [
       "<AxesSubplot:xlabel='thal', ylabel='target'>"
      ]
     },
     "execution_count": 23,
     "metadata": {},
     "output_type": "execute_result"
    },
    {
     "data": {
      "image/png": "[encoded data removed]",
      "text/plain": [
       "<Figure size 432x288 with 1 Axes>"
      ]
     },
     "metadata": {
      "needs_background": "light"
     },
     "output_type": "display_data"
    }
   ],
   "source": [
    "sns.barplot(x=dataset[\"thal\"],y=y)"
   ]
  },
  {
   "cell_type": "code",
   "execution_count": 24,
   "id": "642d369a",
   "metadata": {},
   "outputs": [
    {
     "data": {
      "text/plain": [
       "<AxesSubplot:xlabel='thal', ylabel='Density'>"
      ]
     },
     "execution_count": 24,
     "metadata": {},
     "output_type": "execute_result"
    },
    {
     "data": {
      "image/png": "[encoded data removed]",
      "text/plain": [
       "<Figure size 432x288 with 1 Axes>"
      ]
     },
     "metadata": {
      "needs_background": "light"
     },
     "output_type": "display_data"
    }
   ],
   "source": [
    "sns.distplot(dataset[\"thal\"])"
   ]
  },
  {
   "cell_type": "markdown",
   "id": "004d9615",
   "metadata": {},
   "source": [
    "Train Test split"
   ]
  },
  {
   "cell_type": "code",
   "execution_count": 25,
   "id": "69388dcb",
   "metadata": {},
   "outputs": [],
   "source": [
    "from sklearn.model_selection import train_test_split\n",
    "\n",
    "predictors = dataset.drop(\"target\",axis=1)\n",
    "target = dataset[\"target\"]\n",
    "\n",
    "X_train,X_test,Y_train,Y_test = train_test_split(predictors,target,test_size=0.20,random_state=0)"
   ]
  },
  {
   "cell_type": "code",
   "execution_count": 26,
   "id": "eb9845f1",
   "metadata": {},
   "outputs": [
    {
     "data": {
      "text/plain": [
       "(820, 13)"
      ]
     },
     "execution_count": 26,
     "metadata": {},
     "output_type": "execute_result"
    }
   ],
   "source": [
    "X_train.shape"
   ]
  },
  {
   "cell_type": "code",
   "execution_count": 27,
   "id": "5af54e13",
   "metadata": {},
   "outputs": [
    {
     "data": {
      "text/plain": [
       "(205, 13)"
      ]
     },
     "execution_count": 27,
     "metadata": {},
     "output_type": "execute_result"
    }
   ],
   "source": [
    "X_test.shape"
   ]
  },
  {
   "cell_type": "code",
   "execution_count": 28,
   "id": "644e04ce",
   "metadata": {},
   "outputs": [
    {
     "data": {
      "text/plain": [
       "(820,)"
      ]
     },
     "execution_count": 28,
     "metadata": {},
     "output_type": "execute_result"
    }
   ],
   "source": [
    "Y_train.shape"
   ]
  },
  {
   "cell_type": "code",
   "execution_count": 29,
   "id": "086c3f57",
   "metadata": {},
   "outputs": [
    {
     "data": {
      "text/plain": [
       "(205,)"
      ]
     },
     "execution_count": 29,
     "metadata": {},
     "output_type": "execute_result"
    }
   ],
   "source": [
    "Y_test.shape"
   ]
  },
  {
   "cell_type": "markdown",
   "id": "53f9e897",
   "metadata": {},
   "source": [
    "Model Fitting"
   ]
  },
  {
   "cell_type": "code",
   "execution_count": 30,
   "id": "08882a47",
   "metadata": {},
   "outputs": [],
   "source": [
    "from sklearn.metrics import accuracy_score"
   ]
  },
  {
   "cell_type": "markdown",
   "id": "c93435b5",
   "metadata": {},
   "source": [
    "Logistic Regression"
   ]
  },
  {
   "cell_type": "code",
   "execution_count": 31,
   "id": "9ec76a4f",
   "metadata": {},
   "outputs": [],
   "source": [
    "from sklearn.linear_model import LogisticRegression\n",
    "\n",
    "lr = LogisticRegression()\n",
    "\n",
    "lr.fit(X_train,Y_train)\n",
    "\n",
    "Y_pred_lr = lr.predict(X_test)"
   ]
  },
  {
   "cell_type": "code",
   "execution_count": 32,
   "id": "50f6872e",
   "metadata": {},
   "outputs": [
    {
     "data": {
      "text/plain": [
       "(205,)"
      ]
     },
     "execution_count": 32,
     "metadata": {},
     "output_type": "execute_result"
    }
   ],
   "source": [
    "Y_pred_lr.shape"
   ]
  },
  {
   "cell_type": "code",
   "execution_count": 33,
   "id": "4125d49b",
   "metadata": {},
   "outputs": [
    {
     "name": "stdout",
     "output_type": "stream",
     "text": [
      "The accuracy score achieved using Logistic Regression is: 86.34 %\n"
     ]
    }
   ],
   "source": [
    "score_lr = round(accuracy_score(Y_pred_lr,Y_test)*100,2)\n",
    "\n",
    "print(\"The accuracy score achieved using Logistic Regression is: \"+str(score_lr)+\" %\")"
   ]
  },
  {
   "cell_type": "markdown",
   "id": "124f0690",
   "metadata": {},
   "source": [
    "Naive Bayes"
   ]
  },
  {
   "cell_type": "code",
   "execution_count": 34,
   "id": "45fcaddb",
   "metadata": {},
   "outputs": [],
   "source": [
    "from sklearn.naive_bayes import GaussianNB\n",
    "\n",
    "nb = GaussianNB()\n",
    "\n",
    "nb.fit(X_train,Y_train)\n",
    "\n",
    "Y_pred_nb = nb.predict(X_test)"
   ]
  },
  {
   "cell_type": "code",
   "execution_count": 35,
   "id": "242f999a",
   "metadata": {},
   "outputs": [
    {
     "data": {
      "text/plain": [
       "(205,)"
      ]
     },
     "execution_count": 35,
     "metadata": {},
     "output_type": "execute_result"
    }
   ],
   "source": [
    "Y_pred_nb.shape"
   ]
  },
  {
   "cell_type": "code",
   "execution_count": 36,
   "id": "9b931ddf",
   "metadata": {},
   "outputs": [
    {
     "name": "stdout",
     "output_type": "stream",
     "text": [
      "The accuracy score achieved using Naive Bayes is: 85.37 %\n"
     ]
    }
   ],
   "source": [
    "score_nb = round(accuracy_score(Y_pred_nb,Y_test)*100,2)\n",
    "\n",
    "print(\"The accuracy score achieved using Naive Bayes is: \"+str(score_nb)+\" %\")"
   ]
  },
  {
   "cell_type": "markdown",
   "id": "2f57a80d",
   "metadata": {},
   "source": [
    "SVM"
   ]
  },
  {
   "cell_type": "code",
   "execution_count": 37,
   "id": "fb1c19d3",
   "metadata": {},
   "outputs": [],
   "source": [
    "from sklearn import svm\n",
    "\n",
    "sv = svm.SVC(kernel='linear')\n",
    "\n",
    "sv.fit(X_train, Y_train)\n",
    "\n",
    "Y_pred_svm = sv.predict(X_test)"
   ]
  },
  {
   "cell_type": "code",
   "execution_count": 38,
   "id": "0b40c6f6",
   "metadata": {},
   "outputs": [
    {
     "data": {
      "text/plain": [
       "(205,)"
      ]
     },
     "execution_count": 38,
     "metadata": {},
     "output_type": "execute_result"
    }
   ],
   "source": [
    "Y_pred_svm.shape"
   ]
  },
  {
   "cell_type": "code",
   "execution_count": 39,
   "id": "4035f778",
   "metadata": {},
   "outputs": [
    {
     "name": "stdout",
     "output_type": "stream",
     "text": [
      "The accuracy score achieved using Linear SVM is: 83.9 %\n"
     ]
    }
   ],
   "source": [
    "score_svm = round(accuracy_score(Y_pred_svm,Y_test)*100,2)\n",
    "\n",
    "print(\"The accuracy score achieved using Linear SVM is: \"+str(score_svm)+\" %\")"
   ]
  },
  {
   "cell_type": "markdown",
   "id": "480a43a7",
   "metadata": {},
   "source": [
    "K Nearest Neighbors"
   ]
  },
  {
   "cell_type": "code",
   "execution_count": 40,
   "id": "c69cf22a",
   "metadata": {},
   "outputs": [],
   "source": [
    "from sklearn.neighbors import KNeighborsClassifier\n",
    "\n",
    "knn = KNeighborsClassifier(n_neighbors=7)\n",
    "knn.fit(X_train,Y_train)\n",
    "Y_pred_knn=knn.predict(X_test)"
   ]
  },
  {
   "cell_type": "code",
   "execution_count": 41,
   "id": "0563131d",
   "metadata": {},
   "outputs": [
    {
     "data": {
      "text/plain": [
       "(205,)"
      ]
     },
     "execution_count": 41,
     "metadata": {},
     "output_type": "execute_result"
    }
   ],
   "source": [
    "Y_pred_knn.shape"
   ]
  },
  {
   "cell_type": "code",
   "execution_count": 42,
   "id": "1b2ca821",
   "metadata": {},
   "outputs": [
    {
     "name": "stdout",
     "output_type": "stream",
     "text": [
      "The accuracy score achieved using KNN is: 72.2 %\n"
     ]
    }
   ],
   "source": [
    "score_knn = round(accuracy_score(Y_pred_knn,Y_test)*100,2)\n",
    "\n",
    "print(\"The accuracy score achieved using KNN is: \"+str(score_knn)+\" %\")"
   ]
  },
  {
   "cell_type": "markdown",
   "id": "68506b90",
   "metadata": {},
   "source": [
    "Decision Tree"
   ]
  },
  {
   "cell_type": "code",
   "execution_count": 43,
   "id": "0b9629a5",
   "metadata": {},
   "outputs": [],
   "source": [
    "from sklearn.tree import DecisionTreeClassifier\n",
    "\n",
    "max_accuracy = 0\n",
    "\n",
    "\n",
    "for x in range(200):\n",
    "    dt = DecisionTreeClassifier(random_state=x)\n",
    "    dt.fit(X_train,Y_train)\n",
    "    Y_pred_dt = dt.predict(X_test)\n",
    "    current_accuracy = round(accuracy_score(Y_pred_dt,Y_test)*100,2)\n",
    "    if(current_accuracy>max_accuracy):\n",
    "        max_accuracy = current_accuracy\n",
    "        best_x = x\n",
    "        \n",
    "#print(max_accuracy)\n",
    "#print(best_x)\n",
    "\n",
    "\n",
    "dt = DecisionTreeClassifier(random_state=best_x)\n",
    "dt.fit(X_train,Y_train)\n",
    "Y_pred_dt = dt.predict(X_test)"
   ]
  },
  {
   "cell_type": "code",
   "execution_count": 44,
   "id": "ed16acf9",
   "metadata": {},
   "outputs": [
    {
     "name": "stdout",
     "output_type": "stream",
     "text": [
      "(205,)\n"
     ]
    }
   ],
   "source": [
    "print(Y_pred_dt.shape)"
   ]
  },
  {
   "cell_type": "code",
   "execution_count": 45,
   "id": "7d590cfb",
   "metadata": {},
   "outputs": [
    {
     "name": "stdout",
     "output_type": "stream",
     "text": [
      "The accuracy score achieved using Decision Tree is: 100.0 %\n"
     ]
    }
   ],
   "source": [
    "score_dt = round(accuracy_score(Y_pred_dt,Y_test)*100,2)\n",
    "\n",
    "print(\"The accuracy score achieved using Decision Tree is: \"+str(score_dt)+\" %\")"
   ]
  },
  {
   "cell_type": "markdown",
   "id": "4dcd47dc",
   "metadata": {},
   "source": [
    "Random Forest"
   ]
  },
  {
   "cell_type": "code",
   "execution_count": 46,
   "id": "cf0c1879",
   "metadata": {},
   "outputs": [],
   "source": [
    "from sklearn.ensemble import RandomForestClassifier\n",
    "\n",
    "max_accuracy = 0\n",
    "\n",
    "for x in range(100):\n",
    "    rf = RandomForestClassifier(random_state=x)\n",
    "    rf.fit(X_train,Y_train)\n",
    "    Y_pred_rf = rf.predict(X_test)\n",
    "    current_accuracy = round(accuracy_score(Y_pred_rf,Y_test)*100,2)\n",
    "    if(current_accuracy>max_accuracy):\n",
    "        max_accuracy = current_accuracy\n",
    "        best_x = x\n",
    "\n",
    "rf = RandomForestClassifier(random_state=best_x)\n",
    "rf.fit(X_train,Y_train)\n",
    "Y_pred_rf = rf.predict(X_test)"
   ]
  },
  {
   "cell_type": "code",
   "execution_count": 47,
   "id": "a50ff13e",
   "metadata": {},
   "outputs": [
    {
     "data": {
      "text/plain": [
       "(205,)"
      ]
     },
     "execution_count": 47,
     "metadata": {},
     "output_type": "execute_result"
    }
   ],
   "source": [
    "Y_pred_rf.shape"
   ]
  },
  {
   "cell_type": "code",
   "execution_count": 48,
   "id": "69cbc703",
   "metadata": {},
   "outputs": [
    {
     "name": "stdout",
     "output_type": "stream",
     "text": [
      "The accuracy score achieved using Decision Tree is: 100.0 %\n"
     ]
    }
   ],
   "source": [
    "score_rf = round(accuracy_score(Y_pred_rf,Y_test)*100,2)\n",
    "\n",
    "print(\"The accuracy score achieved using Decision Tree is: \"+str(score_rf)+\" %\")"
   ]
  },
  {
   "cell_type": "markdown",
   "id": "57c66c7b",
   "metadata": {},
   "source": [
    "XGBoost"
   ]
  },
  {
   "cell_type": "code",
   "execution_count": 49,
   "id": "7b6907ca",
   "metadata": {},
   "outputs": [
    {
     "name": "stdout",
     "output_type": "stream",
     "text": [
      "Requirement already satisfied: xgboost in c:\\users\\home\\anaconda3\\lib\\site-packages (1.7.6)Note: you may need to restart the kernel to use updated packages.\n"
     ]
    },
    {
     "name": "stderr",
     "output_type": "stream",
     "text": [
      "ERROR: Could not install packages due to an OSError: [WinError 5] Access is denied: 'C:\\\\Users\\\\Home\\\\anaconda3\\\\Lib\\\\site-packages\\\\numpy\\\\~libs\\\\libopenblas64__v0.3.21-gcc_10_3_0.dll'\n",
      "Consider using the `--user` option or check the permissions.\n",
      "\n"
     ]
    },
    {
     "name": "stdout",
     "output_type": "stream",
     "text": [
      "\n",
      "Requirement already satisfied: scipy in c:\\users\\home\\anaconda3\\lib\\site-packages (from xgboost) (1.7.3)\n",
      "Requirement already satisfied: numpy in c:\\users\\home\\anaconda3\\lib\\site-packages (from xgboost) (1.24.3)\n",
      "Collecting numpy\n",
      "  Using cached numpy-1.22.4-cp39-cp39-win_amd64.whl (14.7 MB)\n",
      "Installing collected packages: numpy\n",
      "  Attempting uninstall: numpy\n",
      "    Found existing installation: numpy 1.24.3\n",
      "    Uninstalling numpy-1.24.3:\n",
      "      Successfully uninstalled numpy-1.24.3\n"
     ]
    }
   ],
   "source": [
    "pip install xgboost"
   ]
  },
  {
   "cell_type": "code",
   "execution_count": 50,
   "id": "ae775cb8",
   "metadata": {},
   "outputs": [],
   "source": [
    "import xgboost as xgb\n",
    "\n",
    "xgb_model = xgb.XGBClassifier(objective=\"binary:logistic\", random_state=42)\n",
    "xgb_model.fit(X_train, Y_train)\n",
    "\n",
    "Y_pred_xgb = xgb_model.predict(X_test)"
   ]
  },
  {
   "cell_type": "code",
   "execution_count": 51,
   "id": "e10a6013",
   "metadata": {},
   "outputs": [
    {
     "data": {
      "text/plain": [
       "(205,)"
      ]
     },
     "execution_count": 51,
     "metadata": {},
     "output_type": "execute_result"
    }
   ],
   "source": [
    "Y_pred_xgb.shape"
   ]
  },
  {
   "cell_type": "code",
   "execution_count": 52,
   "id": "0e30e98a",
   "metadata": {},
   "outputs": [
    {
     "name": "stdout",
     "output_type": "stream",
     "text": [
      "The accuracy score achieved using XGBoost is: 100.0 %\n"
     ]
    }
   ],
   "source": [
    "score_xgb = round(accuracy_score(Y_pred_xgb,Y_test)*100,2)\n",
    "\n",
    "print(\"The accuracy score achieved using XGBoost is: \"+str(score_xgb)+\" %\")"
   ]
  },
  {
   "cell_type": "markdown",
   "id": "d1544236",
   "metadata": {},
   "source": [
    "Neural Network"
   ]
  },
  {
   "cell_type": "code",
   "execution_count": 61,
   "id": "0fa2c9e5",
   "metadata": {},
   "outputs": [
    {
     "name": "stdout",
     "output_type": "stream",
     "text": [
      "Collecting kerasNote: you may need to restart the kernel to use updated packages.\n",
      "  Downloading keras-2.13.1-py3-none-any.whl (1.7 MB)\n",
      "Installing collected packages: keras\n",
      "Successfully installed keras-2.13.1\n",
      "\n"
     ]
    }
   ],
   "source": [
    "pip install keras"
   ]
  },
  {
   "cell_type": "code",
   "execution_count": 1,
   "id": "86ff2b9d",
   "metadata": {},
   "outputs": [
    {
     "name": "stderr",
     "output_type": "stream",
     "text": [
      "C:\\Users\\Home\\anaconda3\\lib\\site-packages\\scipy\\__init__.py:146: UserWarning: A NumPy version >=1.16.5 and <1.23.0 is required for this version of SciPy (detected version 1.24.3\n",
      "  warnings.warn(f\"A NumPy version >={np_minversion} and <{np_maxversion}\"\n"
     ]
    }
   ],
   "source": [
    "from keras.models import Sequential\n",
    "from keras.layers import Dense\n",
    "\n",
    "import warnings\n",
    "warnings.filterwarnings('ignore')"
   ]
  },
  {
   "cell_type": "code",
   "execution_count": 2,
   "id": "6478f45a",
   "metadata": {},
   "outputs": [],
   "source": [
    "# https://stats.stackexchange.com/a/136542 helped a lot in avoiding overfitting\n",
    "\n",
    "model = Sequential()\n",
    "model.add(Dense(11,activation='relu',input_dim=13))\n",
    "model.add(Dense(1,activation='sigmoid'))\n",
    "\n",
    "model.compile(loss='binary_crossentropy',optimizer='adam',metrics=['accuracy'])"
   ]
  },
  {
   "cell_type": "code",
   "execution_count": 53,
   "id": "b4b5728f",
   "metadata": {},
   "outputs": [
    {
     "name": "stdout",
     "output_type": "stream",
     "text": [
      "Epoch 1/300\n",
      "26/26 [==============================] - 5s 7ms/step - loss: 52.6391 - accuracy: 0.4890\n",
      "Epoch 2/300\n",
      "26/26 [==============================] - 0s 4ms/step - loss: 29.2671 - accuracy: 0.4890\n",
      "Epoch 3/300\n",
      "26/26 [==============================] - 0s 3ms/step - loss: 7.1173 - accuracy: 0.5293\n",
      "Epoch 4/300\n",
      "26/26 [==============================] - 0s 3ms/step - loss: 2.0940 - accuracy: 0.6122\n",
      "Epoch 5/300\n",
      "26/26 [==============================] - 0s 4ms/step - loss: 1.6735 - accuracy: 0.6024\n",
      "Epoch 6/300\n",
      "26/26 [==============================] - 0s 2ms/step - loss: 1.5115 - accuracy: 0.6244\n",
      "Epoch 7/300\n",
      "26/26 [==============================] - 0s 3ms/step - loss: 1.4470 - accuracy: 0.6317\n",
      "Epoch 8/300\n",
      "26/26 [==============================] - 0s 4ms/step - loss: 1.3670 - accuracy: 0.6354\n",
      "Epoch 9/300\n",
      "26/26 [==============================] - 0s 3ms/step - loss: 1.2972 - accuracy: 0.6512\n",
      "Epoch 10/300\n",
      "26/26 [==============================] - 0s 3ms/step - loss: 1.2434 - accuracy: 0.6500\n",
      "Epoch 11/300\n",
      "26/26 [==============================] - 0s 3ms/step - loss: 1.2086 - accuracy: 0.6524\n",
      "Epoch 12/300\n",
      "26/26 [==============================] - 0s 3ms/step - loss: 1.1329 - accuracy: 0.6622\n",
      "Epoch 13/300\n",
      "26/26 [==============================] - 0s 3ms/step - loss: 1.1081 - accuracy: 0.6598\n",
      "Epoch 14/300\n",
      "26/26 [==============================] - 0s 3ms/step - loss: 1.0501 - accuracy: 0.6683\n",
      "Epoch 15/300\n",
      "26/26 [==============================] - 0s 3ms/step - loss: 0.9944 - accuracy: 0.6817\n",
      "Epoch 16/300\n",
      "26/26 [==============================] - 0s 3ms/step - loss: 0.9522 - accuracy: 0.6878\n",
      "Epoch 17/300\n",
      "26/26 [==============================] - 0s 3ms/step - loss: 0.9379 - accuracy: 0.6756\n",
      "Epoch 18/300\n",
      "26/26 [==============================] - 0s 3ms/step - loss: 0.8710 - accuracy: 0.6988\n",
      "Epoch 19/300\n",
      "26/26 [==============================] - 0s 3ms/step - loss: 0.8235 - accuracy: 0.7061\n",
      "Epoch 20/300\n",
      "26/26 [==============================] - 0s 4ms/step - loss: 0.7822 - accuracy: 0.7171\n",
      "Epoch 21/300\n",
      "26/26 [==============================] - 0s 3ms/step - loss: 0.7482 - accuracy: 0.7171\n",
      "Epoch 22/300\n",
      "26/26 [==============================] - 0s 3ms/step - loss: 0.7166 - accuracy: 0.7207\n",
      "Epoch 23/300\n",
      "26/26 [==============================] - 0s 3ms/step - loss: 0.6939 - accuracy: 0.7085\n",
      "Epoch 24/300\n",
      "26/26 [==============================] - 0s 3ms/step - loss: 0.6447 - accuracy: 0.7268\n",
      "Epoch 25/300\n",
      "26/26 [==============================] - 0s 3ms/step - loss: 0.6157 - accuracy: 0.7317\n",
      "Epoch 26/300\n",
      "26/26 [==============================] - 0s 3ms/step - loss: 0.5972 - accuracy: 0.7244\n",
      "Epoch 27/300\n",
      "26/26 [==============================] - 0s 3ms/step - loss: 0.5653 - accuracy: 0.7317\n",
      "Epoch 28/300\n",
      "26/26 [==============================] - 0s 3ms/step - loss: 0.5315 - accuracy: 0.7341\n",
      "Epoch 29/300\n",
      "26/26 [==============================] - 0s 3ms/step - loss: 0.5079 - accuracy: 0.7439\n",
      "Epoch 30/300\n",
      "26/26 [==============================] - 0s 3ms/step - loss: 0.5167 - accuracy: 0.7683\n",
      "Epoch 31/300\n",
      "26/26 [==============================] - 0s 3ms/step - loss: 0.4879 - accuracy: 0.7646\n",
      "Epoch 32/300\n",
      "26/26 [==============================] - 0s 4ms/step - loss: 0.4673 - accuracy: 0.7756\n",
      "Epoch 33/300\n",
      "26/26 [==============================] - 0s 3ms/step - loss: 0.4756 - accuracy: 0.7854\n",
      "Epoch 34/300\n",
      "26/26 [==============================] - 0s 3ms/step - loss: 0.4509 - accuracy: 0.7805\n",
      "Epoch 35/300\n",
      "26/26 [==============================] - 0s 3ms/step - loss: 0.4549 - accuracy: 0.7793\n",
      "Epoch 36/300\n",
      "26/26 [==============================] - 0s 3ms/step - loss: 0.4442 - accuracy: 0.7890\n",
      "Epoch 37/300\n",
      "26/26 [==============================] - 0s 3ms/step - loss: 0.4363 - accuracy: 0.8024\n",
      "Epoch 38/300\n",
      "26/26 [==============================] - 0s 3ms/step - loss: 0.4433 - accuracy: 0.8037\n",
      "Epoch 39/300\n",
      "26/26 [==============================] - 0s 3ms/step - loss: 0.4280 - accuracy: 0.7976\n",
      "Epoch 40/300\n",
      "26/26 [==============================] - 0s 3ms/step - loss: 0.4251 - accuracy: 0.8061\n",
      "Epoch 41/300\n",
      "26/26 [==============================] - 0s 3ms/step - loss: 0.4402 - accuracy: 0.8049\n",
      "Epoch 42/300\n",
      "26/26 [==============================] - 0s 3ms/step - loss: 0.4365 - accuracy: 0.7976\n",
      "Epoch 43/300\n",
      "26/26 [==============================] - 0s 3ms/step - loss: 0.4309 - accuracy: 0.7988\n",
      "Epoch 44/300\n",
      "26/26 [==============================] - 0s 3ms/step - loss: 0.4264 - accuracy: 0.8098\n",
      "Epoch 45/300\n",
      "26/26 [==============================] - 0s 3ms/step - loss: 0.4132 - accuracy: 0.8159\n",
      "Epoch 46/300\n",
      "26/26 [==============================] - 0s 4ms/step - loss: 0.4137 - accuracy: 0.8183\n",
      "Epoch 47/300\n",
      "26/26 [==============================] - 0s 4ms/step - loss: 0.4128 - accuracy: 0.8183\n",
      "Epoch 48/300\n",
      "26/26 [==============================] - 0s 4ms/step - loss: 0.4131 - accuracy: 0.8098\n",
      "Epoch 49/300\n",
      "26/26 [==============================] - 0s 4ms/step - loss: 0.4164 - accuracy: 0.8146\n",
      "Epoch 50/300\n",
      "26/26 [==============================] - 0s 6ms/step - loss: 0.4109 - accuracy: 0.8171\n",
      "Epoch 51/300\n",
      "26/26 [==============================] - 0s 7ms/step - loss: 0.4092 - accuracy: 0.8049\n",
      "Epoch 52/300\n",
      "26/26 [==============================] - 0s 5ms/step - loss: 0.4158 - accuracy: 0.8134\n",
      "Epoch 53/300\n",
      "26/26 [==============================] - 0s 3ms/step - loss: 0.4035 - accuracy: 0.8329\n",
      "Epoch 54/300\n",
      "26/26 [==============================] - 0s 2ms/step - loss: 0.4154 - accuracy: 0.8256\n",
      "Epoch 55/300\n",
      "26/26 [==============================] - 0s 2ms/step - loss: 0.4126 - accuracy: 0.8244\n",
      "Epoch 56/300\n",
      "26/26 [==============================] - 0s 2ms/step - loss: 0.3943 - accuracy: 0.8451\n",
      "Epoch 57/300\n",
      "26/26 [==============================] - 0s 3ms/step - loss: 0.4016 - accuracy: 0.8256\n",
      "Epoch 58/300\n",
      "26/26 [==============================] - 0s 5ms/step - loss: 0.4180 - accuracy: 0.7915\n",
      "Epoch 59/300\n",
      "26/26 [==============================] - 0s 5ms/step - loss: 0.4035 - accuracy: 0.8256\n",
      "Epoch 60/300\n",
      "26/26 [==============================] - 0s 4ms/step - loss: 0.4114 - accuracy: 0.8110\n",
      "Epoch 61/300\n",
      "26/26 [==============================] - 0s 3ms/step - loss: 0.3985 - accuracy: 0.8305\n",
      "Epoch 62/300\n",
      "26/26 [==============================] - 0s 2ms/step - loss: 0.3950 - accuracy: 0.8256\n",
      "Epoch 63/300\n",
      "26/26 [==============================] - 0s 3ms/step - loss: 0.3873 - accuracy: 0.8439\n",
      "Epoch 64/300\n",
      "26/26 [==============================] - 0s 3ms/step - loss: 0.4017 - accuracy: 0.8207\n",
      "Epoch 65/300\n",
      "26/26 [==============================] - 0s 2ms/step - loss: 0.3972 - accuracy: 0.8268\n",
      "Epoch 66/300\n",
      "26/26 [==============================] - 0s 2ms/step - loss: 0.3967 - accuracy: 0.8366\n",
      "Epoch 67/300\n",
      "26/26 [==============================] - 0s 3ms/step - loss: 0.3998 - accuracy: 0.8256\n",
      "Epoch 68/300\n",
      "26/26 [==============================] - 0s 3ms/step - loss: 0.4014 - accuracy: 0.8171\n",
      "Epoch 69/300\n",
      "26/26 [==============================] - 0s 7ms/step - loss: 0.3904 - accuracy: 0.8305\n",
      "Epoch 70/300\n",
      "26/26 [==============================] - 0s 5ms/step - loss: 0.3893 - accuracy: 0.8317\n",
      "Epoch 71/300\n",
      "26/26 [==============================] - 0s 4ms/step - loss: 0.3899 - accuracy: 0.8366\n",
      "Epoch 72/300\n",
      "26/26 [==============================] - 0s 3ms/step - loss: 0.4043 - accuracy: 0.8256\n",
      "Epoch 73/300\n",
      "26/26 [==============================] - 0s 4ms/step - loss: 0.3943 - accuracy: 0.8171\n",
      "Epoch 74/300\n",
      "26/26 [==============================] - 0s 2ms/step - loss: 0.3877 - accuracy: 0.8488\n",
      "Epoch 75/300\n",
      "26/26 [==============================] - 0s 3ms/step - loss: 0.3979 - accuracy: 0.8293\n",
      "Epoch 76/300\n",
      "26/26 [==============================] - 0s 3ms/step - loss: 0.3904 - accuracy: 0.8305\n",
      "Epoch 77/300\n",
      "26/26 [==============================] - 0s 3ms/step - loss: 0.3898 - accuracy: 0.8341\n",
      "Epoch 78/300\n",
      "26/26 [==============================] - 0s 3ms/step - loss: 0.3799 - accuracy: 0.8402\n",
      "Epoch 79/300\n",
      "26/26 [==============================] - 0s 3ms/step - loss: 0.3868 - accuracy: 0.8354\n",
      "Epoch 80/300\n",
      "26/26 [==============================] - 0s 3ms/step - loss: 0.3942 - accuracy: 0.8293\n",
      "Epoch 81/300\n",
      "26/26 [==============================] - 0s 3ms/step - loss: 0.3873 - accuracy: 0.8415\n",
      "Epoch 82/300\n",
      "26/26 [==============================] - 0s 2ms/step - loss: 0.3831 - accuracy: 0.8415\n",
      "Epoch 83/300\n",
      "26/26 [==============================] - 0s 3ms/step - loss: 0.3939 - accuracy: 0.8293\n",
      "Epoch 84/300\n",
      "26/26 [==============================] - 0s 2ms/step - loss: 0.4020 - accuracy: 0.8329\n",
      "Epoch 85/300\n",
      "26/26 [==============================] - 0s 2ms/step - loss: 0.3976 - accuracy: 0.8232\n",
      "Epoch 86/300\n",
      "26/26 [==============================] - 0s 2ms/step - loss: 0.4031 - accuracy: 0.8268\n",
      "Epoch 87/300\n",
      "26/26 [==============================] - 0s 3ms/step - loss: 0.3826 - accuracy: 0.8341\n",
      "Epoch 88/300\n",
      "26/26 [==============================] - 0s 3ms/step - loss: 0.3908 - accuracy: 0.8329\n",
      "Epoch 89/300\n",
      "26/26 [==============================] - 0s 2ms/step - loss: 0.3797 - accuracy: 0.8585\n",
      "Epoch 90/300\n",
      "26/26 [==============================] - 0s 3ms/step - loss: 0.3855 - accuracy: 0.8427\n",
      "Epoch 91/300\n",
      "26/26 [==============================] - 0s 3ms/step - loss: 0.3813 - accuracy: 0.8378\n",
      "Epoch 92/300\n",
      "26/26 [==============================] - 0s 2ms/step - loss: 0.3845 - accuracy: 0.8329\n",
      "Epoch 93/300\n",
      "26/26 [==============================] - 0s 3ms/step - loss: 0.3973 - accuracy: 0.8280\n",
      "Epoch 94/300\n",
      "26/26 [==============================] - 0s 3ms/step - loss: 0.3823 - accuracy: 0.8256\n",
      "Epoch 95/300\n",
      "26/26 [==============================] - 0s 3ms/step - loss: 0.3920 - accuracy: 0.8305\n",
      "Epoch 96/300\n",
      "26/26 [==============================] - 0s 2ms/step - loss: 0.3787 - accuracy: 0.8463\n",
      "Epoch 97/300\n",
      "26/26 [==============================] - 0s 3ms/step - loss: 0.3876 - accuracy: 0.8354\n",
      "Epoch 98/300\n",
      "26/26 [==============================] - 0s 3ms/step - loss: 0.3975 - accuracy: 0.8305\n",
      "Epoch 99/300\n",
      "26/26 [==============================] - 0s 2ms/step - loss: 0.3780 - accuracy: 0.8329\n",
      "Epoch 100/300\n",
      "26/26 [==============================] - 0s 2ms/step - loss: 0.3806 - accuracy: 0.8378\n",
      "Epoch 101/300\n",
      "26/26 [==============================] - 0s 2ms/step - loss: 0.3678 - accuracy: 0.8476\n",
      "Epoch 102/300\n",
      "26/26 [==============================] - 0s 2ms/step - loss: 0.3838 - accuracy: 0.8476\n",
      "Epoch 103/300\n",
      "26/26 [==============================] - 0s 2ms/step - loss: 0.3773 - accuracy: 0.8366\n",
      "Epoch 104/300\n",
      "26/26 [==============================] - 0s 3ms/step - loss: 0.3820 - accuracy: 0.8427\n",
      "Epoch 105/300\n",
      "26/26 [==============================] - 0s 2ms/step - loss: 0.3976 - accuracy: 0.8232\n",
      "Epoch 106/300\n",
      "26/26 [==============================] - 0s 2ms/step - loss: 0.3988 - accuracy: 0.8293\n",
      "Epoch 107/300\n",
      "26/26 [==============================] - 0s 3ms/step - loss: 0.3835 - accuracy: 0.8280\n",
      "Epoch 108/300\n",
      "26/26 [==============================] - 0s 3ms/step - loss: 0.3805 - accuracy: 0.8476\n",
      "Epoch 109/300\n",
      "26/26 [==============================] - 0s 3ms/step - loss: 0.3804 - accuracy: 0.8451\n",
      "Epoch 110/300\n",
      "26/26 [==============================] - 0s 3ms/step - loss: 0.3678 - accuracy: 0.8341\n",
      "Epoch 111/300\n",
      "26/26 [==============================] - 0s 2ms/step - loss: 0.3916 - accuracy: 0.8256\n",
      "Epoch 112/300\n",
      "26/26 [==============================] - 0s 3ms/step - loss: 0.4185 - accuracy: 0.8134\n",
      "Epoch 113/300\n",
      "26/26 [==============================] - 0s 2ms/step - loss: 0.3810 - accuracy: 0.8488\n",
      "Epoch 114/300\n",
      "26/26 [==============================] - 0s 3ms/step - loss: 0.3869 - accuracy: 0.8244\n",
      "Epoch 115/300\n",
      "26/26 [==============================] - 0s 3ms/step - loss: 0.4063 - accuracy: 0.8122\n",
      "Epoch 116/300\n",
      "26/26 [==============================] - 0s 3ms/step - loss: 0.3929 - accuracy: 0.8293\n",
      "Epoch 117/300\n",
      "26/26 [==============================] - 0s 3ms/step - loss: 0.3745 - accuracy: 0.8463\n",
      "Epoch 118/300\n",
      "26/26 [==============================] - 0s 3ms/step - loss: 0.3902 - accuracy: 0.8341\n",
      "Epoch 119/300\n",
      "26/26 [==============================] - 0s 3ms/step - loss: 0.3856 - accuracy: 0.8293\n",
      "Epoch 120/300\n",
      "26/26 [==============================] - 0s 2ms/step - loss: 0.3739 - accuracy: 0.8378\n",
      "Epoch 121/300\n",
      "26/26 [==============================] - 0s 2ms/step - loss: 0.3872 - accuracy: 0.8329\n",
      "Epoch 122/300\n",
      "26/26 [==============================] - 0s 2ms/step - loss: 0.3770 - accuracy: 0.8427\n",
      "Epoch 123/300\n",
      "26/26 [==============================] - 0s 2ms/step - loss: 0.3727 - accuracy: 0.8427\n",
      "Epoch 124/300\n",
      "26/26 [==============================] - 0s 2ms/step - loss: 0.3710 - accuracy: 0.8463\n",
      "Epoch 125/300\n",
      "26/26 [==============================] - 0s 2ms/step - loss: 0.3818 - accuracy: 0.8305\n",
      "Epoch 126/300\n",
      "26/26 [==============================] - 0s 2ms/step - loss: 0.3888 - accuracy: 0.8183\n",
      "Epoch 127/300\n",
      "26/26 [==============================] - 0s 2ms/step - loss: 0.3770 - accuracy: 0.8390\n",
      "Epoch 128/300\n",
      "26/26 [==============================] - 0s 2ms/step - loss: 0.4127 - accuracy: 0.8159\n",
      "Epoch 129/300\n",
      "26/26 [==============================] - 0s 2ms/step - loss: 0.3981 - accuracy: 0.8159\n",
      "Epoch 130/300\n",
      "26/26 [==============================] - 0s 2ms/step - loss: 0.3836 - accuracy: 0.8390\n",
      "Epoch 131/300\n",
      "26/26 [==============================] - 0s 2ms/step - loss: 0.3783 - accuracy: 0.8439\n",
      "Epoch 132/300\n",
      "26/26 [==============================] - 0s 2ms/step - loss: 0.3951 - accuracy: 0.8256\n",
      "Epoch 133/300\n",
      "26/26 [==============================] - 0s 2ms/step - loss: 0.4074 - accuracy: 0.8012\n",
      "Epoch 134/300\n",
      "26/26 [==============================] - 0s 2ms/step - loss: 0.3746 - accuracy: 0.8415\n",
      "Epoch 135/300\n",
      "26/26 [==============================] - 0s 2ms/step - loss: 0.3948 - accuracy: 0.8293\n",
      "Epoch 136/300\n",
      "26/26 [==============================] - 0s 2ms/step - loss: 0.4067 - accuracy: 0.8110\n",
      "Epoch 137/300\n",
      "26/26 [==============================] - 0s 2ms/step - loss: 0.3889 - accuracy: 0.8293\n",
      "Epoch 138/300\n",
      "26/26 [==============================] - 0s 3ms/step - loss: 0.3867 - accuracy: 0.8378\n",
      "Epoch 139/300\n",
      "26/26 [==============================] - 0s 2ms/step - loss: 0.3859 - accuracy: 0.8488\n",
      "Epoch 140/300\n",
      "26/26 [==============================] - 0s 2ms/step - loss: 0.3882 - accuracy: 0.8354\n",
      "Epoch 141/300\n",
      "26/26 [==============================] - 0s 2ms/step - loss: 0.3696 - accuracy: 0.8500\n",
      "Epoch 142/300\n",
      "26/26 [==============================] - 0s 2ms/step - loss: 0.4079 - accuracy: 0.8293\n",
      "Epoch 143/300\n",
      "26/26 [==============================] - 0s 3ms/step - loss: 0.3797 - accuracy: 0.8427\n",
      "Epoch 144/300\n",
      "26/26 [==============================] - 0s 3ms/step - loss: 0.3797 - accuracy: 0.8293\n",
      "Epoch 145/300\n",
      "26/26 [==============================] - 0s 3ms/step - loss: 0.3817 - accuracy: 0.8329\n",
      "Epoch 146/300\n",
      "26/26 [==============================] - 0s 3ms/step - loss: 0.3746 - accuracy: 0.8476\n",
      "Epoch 147/300\n",
      "26/26 [==============================] - 0s 3ms/step - loss: 0.3922 - accuracy: 0.8305\n",
      "Epoch 148/300\n",
      "26/26 [==============================] - 0s 3ms/step - loss: 0.3811 - accuracy: 0.8439\n",
      "Epoch 149/300\n",
      "26/26 [==============================] - 0s 3ms/step - loss: 0.3849 - accuracy: 0.8378\n",
      "Epoch 150/300\n",
      "26/26 [==============================] - 0s 3ms/step - loss: 0.3797 - accuracy: 0.8268\n",
      "Epoch 151/300\n",
      "26/26 [==============================] - 0s 3ms/step - loss: 0.3748 - accuracy: 0.8354\n",
      "Epoch 152/300\n",
      "26/26 [==============================] - 0s 3ms/step - loss: 0.3753 - accuracy: 0.8427\n",
      "Epoch 153/300\n",
      "26/26 [==============================] - 0s 3ms/step - loss: 0.3755 - accuracy: 0.8341\n",
      "Epoch 154/300\n",
      "26/26 [==============================] - 0s 3ms/step - loss: 0.3856 - accuracy: 0.8293\n",
      "Epoch 155/300\n",
      "26/26 [==============================] - 0s 3ms/step - loss: 0.3773 - accuracy: 0.8451\n",
      "Epoch 156/300\n",
      "26/26 [==============================] - 0s 3ms/step - loss: 0.3809 - accuracy: 0.8402\n",
      "Epoch 157/300\n",
      "26/26 [==============================] - 0s 3ms/step - loss: 0.3780 - accuracy: 0.8378\n",
      "Epoch 158/300\n",
      "26/26 [==============================] - 0s 2ms/step - loss: 0.3947 - accuracy: 0.8366\n",
      "Epoch 159/300\n",
      "26/26 [==============================] - 0s 2ms/step - loss: 0.3767 - accuracy: 0.8415\n",
      "Epoch 160/300\n",
      "26/26 [==============================] - 0s 3ms/step - loss: 0.3799 - accuracy: 0.8293\n",
      "Epoch 161/300\n",
      "26/26 [==============================] - 0s 2ms/step - loss: 0.3825 - accuracy: 0.8524\n",
      "Epoch 162/300\n",
      "26/26 [==============================] - 0s 3ms/step - loss: 0.3758 - accuracy: 0.8293\n",
      "Epoch 163/300\n",
      "26/26 [==============================] - 0s 3ms/step - loss: 0.3825 - accuracy: 0.8427\n",
      "Epoch 164/300\n",
      "26/26 [==============================] - 0s 3ms/step - loss: 0.3863 - accuracy: 0.8220\n",
      "Epoch 165/300\n",
      "26/26 [==============================] - 0s 2ms/step - loss: 0.3714 - accuracy: 0.8451\n",
      "Epoch 166/300\n",
      "26/26 [==============================] - 0s 2ms/step - loss: 0.3697 - accuracy: 0.8549\n",
      "Epoch 167/300\n",
      "26/26 [==============================] - 0s 2ms/step - loss: 0.3709 - accuracy: 0.8561\n",
      "Epoch 168/300\n",
      "26/26 [==============================] - 0s 2ms/step - loss: 0.3957 - accuracy: 0.8390\n",
      "Epoch 169/300\n",
      "26/26 [==============================] - 0s 2ms/step - loss: 0.3812 - accuracy: 0.8293\n",
      "Epoch 170/300\n",
      "26/26 [==============================] - 0s 2ms/step - loss: 0.3877 - accuracy: 0.8220\n",
      "Epoch 171/300\n",
      "26/26 [==============================] - 0s 2ms/step - loss: 0.3738 - accuracy: 0.8512\n",
      "Epoch 172/300\n",
      "26/26 [==============================] - 0s 3ms/step - loss: 0.3916 - accuracy: 0.8280\n",
      "Epoch 173/300\n",
      "26/26 [==============================] - 0s 3ms/step - loss: 0.3976 - accuracy: 0.8110\n",
      "Epoch 174/300\n",
      "26/26 [==============================] - 0s 3ms/step - loss: 0.4203 - accuracy: 0.8037\n",
      "Epoch 175/300\n",
      "26/26 [==============================] - 0s 2ms/step - loss: 0.3783 - accuracy: 0.8439\n",
      "Epoch 176/300\n",
      "26/26 [==============================] - 0s 2ms/step - loss: 0.3739 - accuracy: 0.8390\n",
      "Epoch 177/300\n",
      "26/26 [==============================] - 0s 2ms/step - loss: 0.3721 - accuracy: 0.8415\n",
      "Epoch 178/300\n",
      "26/26 [==============================] - 0s 2ms/step - loss: 0.3783 - accuracy: 0.8378\n",
      "Epoch 179/300\n",
      "26/26 [==============================] - 0s 2ms/step - loss: 0.3847 - accuracy: 0.8476\n",
      "Epoch 180/300\n",
      "26/26 [==============================] - 0s 3ms/step - loss: 0.3900 - accuracy: 0.8329\n",
      "Epoch 181/300\n",
      "26/26 [==============================] - 0s 2ms/step - loss: 0.3887 - accuracy: 0.8256\n",
      "Epoch 182/300\n",
      "26/26 [==============================] - 0s 2ms/step - loss: 0.4251 - accuracy: 0.8146\n",
      "Epoch 183/300\n",
      "26/26 [==============================] - 0s 3ms/step - loss: 0.3852 - accuracy: 0.8427\n",
      "Epoch 184/300\n",
      "26/26 [==============================] - 0s 3ms/step - loss: 0.3733 - accuracy: 0.8390\n",
      "Epoch 185/300\n",
      "26/26 [==============================] - 0s 3ms/step - loss: 0.3871 - accuracy: 0.8329\n",
      "Epoch 186/300\n",
      "26/26 [==============================] - 0s 3ms/step - loss: 0.4132 - accuracy: 0.8293\n",
      "Epoch 187/300\n",
      "26/26 [==============================] - 0s 3ms/step - loss: 0.3807 - accuracy: 0.8341\n",
      "Epoch 188/300\n",
      "26/26 [==============================] - 0s 2ms/step - loss: 0.3656 - accuracy: 0.8524\n",
      "Epoch 189/300\n",
      "26/26 [==============================] - 0s 2ms/step - loss: 0.3916 - accuracy: 0.8427\n",
      "Epoch 190/300\n",
      "26/26 [==============================] - 0s 3ms/step - loss: 0.3726 - accuracy: 0.8463\n",
      "Epoch 191/300\n",
      "26/26 [==============================] - 0s 3ms/step - loss: 0.3833 - accuracy: 0.8329\n",
      "Epoch 192/300\n",
      "26/26 [==============================] - 0s 2ms/step - loss: 0.3893 - accuracy: 0.8293\n",
      "Epoch 193/300\n",
      "26/26 [==============================] - 0s 2ms/step - loss: 0.3873 - accuracy: 0.8293\n",
      "Epoch 194/300\n",
      "26/26 [==============================] - 0s 2ms/step - loss: 0.4039 - accuracy: 0.8134\n",
      "Epoch 195/300\n",
      "26/26 [==============================] - 0s 2ms/step - loss: 0.4219 - accuracy: 0.8061\n",
      "Epoch 196/300\n",
      "26/26 [==============================] - 0s 3ms/step - loss: 0.4019 - accuracy: 0.8256\n",
      "Epoch 197/300\n",
      "26/26 [==============================] - 0s 3ms/step - loss: 0.3936 - accuracy: 0.8268\n",
      "Epoch 198/300\n",
      "26/26 [==============================] - 0s 3ms/step - loss: 0.3743 - accuracy: 0.8488\n",
      "Epoch 199/300\n",
      "26/26 [==============================] - 0s 2ms/step - loss: 0.3777 - accuracy: 0.8476\n",
      "Epoch 200/300\n",
      "26/26 [==============================] - 0s 2ms/step - loss: 0.4230 - accuracy: 0.8085\n",
      "Epoch 201/300\n",
      "26/26 [==============================] - 0s 3ms/step - loss: 0.3906 - accuracy: 0.8220\n",
      "Epoch 202/300\n",
      "26/26 [==============================] - 0s 3ms/step - loss: 0.4130 - accuracy: 0.8061\n",
      "Epoch 203/300\n",
      "26/26 [==============================] - 0s 3ms/step - loss: 0.3787 - accuracy: 0.8439\n",
      "Epoch 204/300\n",
      "26/26 [==============================] - 0s 3ms/step - loss: 0.3719 - accuracy: 0.8402\n",
      "Epoch 205/300\n",
      "26/26 [==============================] - 0s 3ms/step - loss: 0.3769 - accuracy: 0.8390\n",
      "Epoch 206/300\n",
      "26/26 [==============================] - 0s 2ms/step - loss: 0.3864 - accuracy: 0.8329\n",
      "Epoch 207/300\n",
      "26/26 [==============================] - 0s 2ms/step - loss: 0.4049 - accuracy: 0.8305\n",
      "Epoch 208/300\n",
      "26/26 [==============================] - 0s 2ms/step - loss: 0.3778 - accuracy: 0.8476\n",
      "Epoch 209/300\n",
      "26/26 [==============================] - 0s 2ms/step - loss: 0.4067 - accuracy: 0.8073\n",
      "Epoch 210/300\n",
      "26/26 [==============================] - 0s 3ms/step - loss: 0.3910 - accuracy: 0.8317\n",
      "Epoch 211/300\n",
      "26/26 [==============================] - 0s 3ms/step - loss: 0.4058 - accuracy: 0.8134\n",
      "Epoch 212/300\n",
      "26/26 [==============================] - 0s 3ms/step - loss: 0.3761 - accuracy: 0.8488\n",
      "Epoch 213/300\n",
      "26/26 [==============================] - 0s 3ms/step - loss: 0.3900 - accuracy: 0.8354\n",
      "Epoch 214/300\n",
      "26/26 [==============================] - 0s 2ms/step - loss: 0.3989 - accuracy: 0.8341\n",
      "Epoch 215/300\n",
      "26/26 [==============================] - 0s 2ms/step - loss: 0.3742 - accuracy: 0.8354\n",
      "Epoch 216/300\n",
      "26/26 [==============================] - 0s 2ms/step - loss: 0.3744 - accuracy: 0.8305\n",
      "Epoch 217/300\n",
      "26/26 [==============================] - 0s 2ms/step - loss: 0.3814 - accuracy: 0.8366\n",
      "Epoch 218/300\n",
      "26/26 [==============================] - 0s 3ms/step - loss: 0.3808 - accuracy: 0.8366\n",
      "Epoch 219/300\n",
      "26/26 [==============================] - 0s 3ms/step - loss: 0.3832 - accuracy: 0.8500\n",
      "Epoch 220/300\n",
      "26/26 [==============================] - 0s 3ms/step - loss: 0.3798 - accuracy: 0.8537\n",
      "Epoch 221/300\n",
      "26/26 [==============================] - 0s 2ms/step - loss: 0.3810 - accuracy: 0.8354\n",
      "Epoch 222/300\n",
      "26/26 [==============================] - 0s 3ms/step - loss: 0.3770 - accuracy: 0.8439\n",
      "Epoch 223/300\n",
      "26/26 [==============================] - 0s 3ms/step - loss: 0.4117 - accuracy: 0.8183\n",
      "Epoch 224/300\n",
      "26/26 [==============================] - 0s 4ms/step - loss: 0.3712 - accuracy: 0.8512\n",
      "Epoch 225/300\n",
      "26/26 [==============================] - 0s 3ms/step - loss: 0.3814 - accuracy: 0.8439\n",
      "Epoch 226/300\n",
      "26/26 [==============================] - 0s 3ms/step - loss: 0.4143 - accuracy: 0.8049\n",
      "Epoch 227/300\n",
      "26/26 [==============================] - 0s 3ms/step - loss: 0.3792 - accuracy: 0.8354\n",
      "Epoch 228/300\n",
      "26/26 [==============================] - 0s 3ms/step - loss: 0.3744 - accuracy: 0.8439\n",
      "Epoch 229/300\n",
      "26/26 [==============================] - 0s 3ms/step - loss: 0.3921 - accuracy: 0.8305\n",
      "Epoch 230/300\n",
      "26/26 [==============================] - 0s 2ms/step - loss: 0.3873 - accuracy: 0.8317\n",
      "Epoch 231/300\n",
      "26/26 [==============================] - 0s 2ms/step - loss: 0.3759 - accuracy: 0.8378\n",
      "Epoch 232/300\n",
      "26/26 [==============================] - 0s 4ms/step - loss: 0.3747 - accuracy: 0.8354\n",
      "Epoch 233/300\n",
      "26/26 [==============================] - 0s 2ms/step - loss: 0.3744 - accuracy: 0.8451\n",
      "Epoch 234/300\n",
      "26/26 [==============================] - 0s 2ms/step - loss: 0.3809 - accuracy: 0.8329\n",
      "Epoch 235/300\n",
      "26/26 [==============================] - 0s 3ms/step - loss: 0.3855 - accuracy: 0.8329\n",
      "Epoch 236/300\n",
      "26/26 [==============================] - 0s 4ms/step - loss: 0.3770 - accuracy: 0.8366\n",
      "Epoch 237/300\n",
      "26/26 [==============================] - 0s 3ms/step - loss: 0.4868 - accuracy: 0.7598\n",
      "Epoch 238/300\n",
      "26/26 [==============================] - 0s 3ms/step - loss: 0.4560 - accuracy: 0.7854\n",
      "Epoch 239/300\n",
      "26/26 [==============================] - 0s 3ms/step - loss: 0.3805 - accuracy: 0.8341\n",
      "Epoch 240/300\n",
      "26/26 [==============================] - 0s 3ms/step - loss: 0.3890 - accuracy: 0.8305\n",
      "Epoch 241/300\n",
      "26/26 [==============================] - 0s 2ms/step - loss: 0.3780 - accuracy: 0.8341\n",
      "Epoch 242/300\n",
      "26/26 [==============================] - 0s 3ms/step - loss: 0.3929 - accuracy: 0.8244\n",
      "Epoch 243/300\n",
      "26/26 [==============================] - 0s 3ms/step - loss: 0.3673 - accuracy: 0.8476\n",
      "Epoch 244/300\n",
      "26/26 [==============================] - 0s 2ms/step - loss: 0.3693 - accuracy: 0.8451\n",
      "Epoch 245/300\n",
      "26/26 [==============================] - 0s 3ms/step - loss: 0.3703 - accuracy: 0.8476\n",
      "Epoch 246/300\n",
      "26/26 [==============================] - 0s 3ms/step - loss: 0.3767 - accuracy: 0.8439\n",
      "Epoch 247/300\n",
      "26/26 [==============================] - 0s 3ms/step - loss: 0.3905 - accuracy: 0.8244\n",
      "Epoch 248/300\n",
      "26/26 [==============================] - 0s 3ms/step - loss: 0.3992 - accuracy: 0.8244\n",
      "Epoch 249/300\n",
      "26/26 [==============================] - 0s 3ms/step - loss: 0.3667 - accuracy: 0.8537\n",
      "Epoch 250/300\n",
      "26/26 [==============================] - 0s 3ms/step - loss: 0.3736 - accuracy: 0.8439\n",
      "Epoch 251/300\n",
      "26/26 [==============================] - 0s 3ms/step - loss: 0.3909 - accuracy: 0.8317\n",
      "Epoch 252/300\n",
      "26/26 [==============================] - 0s 2ms/step - loss: 0.3869 - accuracy: 0.8366\n",
      "Epoch 253/300\n",
      "26/26 [==============================] - 0s 3ms/step - loss: 0.3687 - accuracy: 0.8549\n",
      "Epoch 254/300\n",
      "26/26 [==============================] - 0s 3ms/step - loss: 0.3810 - accuracy: 0.8439\n",
      "Epoch 255/300\n",
      "26/26 [==============================] - 0s 3ms/step - loss: 0.3732 - accuracy: 0.8549\n",
      "Epoch 256/300\n",
      "26/26 [==============================] - 0s 2ms/step - loss: 0.3817 - accuracy: 0.8244\n",
      "Epoch 257/300\n",
      "26/26 [==============================] - 0s 2ms/step - loss: 0.3820 - accuracy: 0.8378\n",
      "Epoch 258/300\n",
      "26/26 [==============================] - 0s 3ms/step - loss: 0.3710 - accuracy: 0.8427\n",
      "Epoch 259/300\n",
      "26/26 [==============================] - 0s 3ms/step - loss: 0.3844 - accuracy: 0.8427\n",
      "Epoch 260/300\n",
      "26/26 [==============================] - 0s 2ms/step - loss: 0.3722 - accuracy: 0.8476\n",
      "Epoch 261/300\n",
      "26/26 [==============================] - 0s 2ms/step - loss: 0.3863 - accuracy: 0.8293\n",
      "Epoch 262/300\n",
      "26/26 [==============================] - 0s 3ms/step - loss: 0.3854 - accuracy: 0.8354\n",
      "Epoch 263/300\n",
      "26/26 [==============================] - 0s 2ms/step - loss: 0.3734 - accuracy: 0.8451\n",
      "Epoch 264/300\n",
      "26/26 [==============================] - 0s 3ms/step - loss: 0.3712 - accuracy: 0.8341\n",
      "Epoch 265/300\n",
      "26/26 [==============================] - 0s 2ms/step - loss: 0.3813 - accuracy: 0.8354\n",
      "Epoch 266/300\n",
      "26/26 [==============================] - 0s 2ms/step - loss: 0.4227 - accuracy: 0.8134\n",
      "Epoch 267/300\n",
      "26/26 [==============================] - 0s 2ms/step - loss: 0.4498 - accuracy: 0.7805\n",
      "Epoch 268/300\n",
      "26/26 [==============================] - 0s 2ms/step - loss: 0.3780 - accuracy: 0.8488\n",
      "Epoch 269/300\n",
      "26/26 [==============================] - 0s 2ms/step - loss: 0.3681 - accuracy: 0.8598\n",
      "Epoch 270/300\n",
      "26/26 [==============================] - 0s 2ms/step - loss: 0.3667 - accuracy: 0.8549\n",
      "Epoch 271/300\n",
      "26/26 [==============================] - 0s 2ms/step - loss: 0.3668 - accuracy: 0.8512\n",
      "Epoch 272/300\n",
      "26/26 [==============================] - 0s 2ms/step - loss: 0.3940 - accuracy: 0.8280\n",
      "Epoch 273/300\n",
      "26/26 [==============================] - 0s 2ms/step - loss: 0.3770 - accuracy: 0.8537\n",
      "Epoch 274/300\n",
      "26/26 [==============================] - 0s 2ms/step - loss: 0.3969 - accuracy: 0.8244\n",
      "Epoch 275/300\n",
      "26/26 [==============================] - 0s 2ms/step - loss: 0.4288 - accuracy: 0.8000\n",
      "Epoch 276/300\n",
      "26/26 [==============================] - 0s 2ms/step - loss: 0.3852 - accuracy: 0.8427\n",
      "Epoch 277/300\n",
      "26/26 [==============================] - 0s 3ms/step - loss: 0.3744 - accuracy: 0.8402\n",
      "Epoch 278/300\n",
      "26/26 [==============================] - 0s 3ms/step - loss: 0.3733 - accuracy: 0.8354\n",
      "Epoch 279/300\n",
      "26/26 [==============================] - 0s 3ms/step - loss: 0.3739 - accuracy: 0.8488\n",
      "Epoch 280/300\n",
      "26/26 [==============================] - 0s 2ms/step - loss: 0.3714 - accuracy: 0.8512\n",
      "Epoch 281/300\n",
      "26/26 [==============================] - 0s 2ms/step - loss: 0.3726 - accuracy: 0.8451\n",
      "Epoch 282/300\n",
      "26/26 [==============================] - 0s 2ms/step - loss: 0.3704 - accuracy: 0.8512\n",
      "Epoch 283/300\n",
      "26/26 [==============================] - 0s 2ms/step - loss: 0.3689 - accuracy: 0.8488\n",
      "Epoch 284/300\n",
      "26/26 [==============================] - 0s 2ms/step - loss: 0.3785 - accuracy: 0.8488\n",
      "Epoch 285/300\n",
      "26/26 [==============================] - 0s 2ms/step - loss: 0.4181 - accuracy: 0.8195\n",
      "Epoch 286/300\n",
      "26/26 [==============================] - 0s 2ms/step - loss: 0.3948 - accuracy: 0.8195\n",
      "Epoch 287/300\n",
      "26/26 [==============================] - 0s 2ms/step - loss: 0.3810 - accuracy: 0.8402\n",
      "Epoch 288/300\n",
      "26/26 [==============================] - 0s 2ms/step - loss: 0.3732 - accuracy: 0.8488\n",
      "Epoch 289/300\n",
      "26/26 [==============================] - 0s 2ms/step - loss: 0.3753 - accuracy: 0.8427\n",
      "Epoch 290/300\n",
      "26/26 [==============================] - 0s 2ms/step - loss: 0.3928 - accuracy: 0.8341\n",
      "Epoch 291/300\n",
      "26/26 [==============================] - 0s 2ms/step - loss: 0.4085 - accuracy: 0.8207\n",
      "Epoch 292/300\n",
      "26/26 [==============================] - 0s 3ms/step - loss: 0.3854 - accuracy: 0.8451\n",
      "Epoch 293/300\n",
      "26/26 [==============================] - 0s 3ms/step - loss: 0.4178 - accuracy: 0.8049\n",
      "Epoch 294/300\n",
      "26/26 [==============================] - 0s 3ms/step - loss: 0.3728 - accuracy: 0.8451\n",
      "Epoch 295/300\n",
      "26/26 [==============================] - 0s 3ms/step - loss: 0.3657 - accuracy: 0.8476\n",
      "Epoch 296/300\n",
      "26/26 [==============================] - 0s 2ms/step - loss: 0.3799 - accuracy: 0.8354\n",
      "Epoch 297/300\n",
      "26/26 [==============================] - 0s 2ms/step - loss: 0.3787 - accuracy: 0.8512\n",
      "Epoch 298/300\n",
      "26/26 [==============================] - 0s 2ms/step - loss: 0.3714 - accuracy: 0.8549\n",
      "Epoch 299/300\n",
      "26/26 [==============================] - 0s 2ms/step - loss: 0.4206 - accuracy: 0.8122\n",
      "Epoch 300/300\n",
      "26/26 [==============================] - 0s 2ms/step - loss: 0.3749 - accuracy: 0.8439\n"
     ]
    },
    {
     "data": {
      "text/plain": [
       "<keras.src.callbacks.History at 0x268b08e2f40>"
      ]
     },
     "execution_count": 53,
     "metadata": {},
     "output_type": "execute_result"
    }
   ],
   "source": [
    "model.fit(X_train,Y_train,epochs=300)"
   ]
  },
  {
   "cell_type": "code",
   "execution_count": 54,
   "id": "6e03e909",
   "metadata": {},
   "outputs": [
    {
     "name": "stdout",
     "output_type": "stream",
     "text": [
      "7/7 [==============================] - 1s 9ms/step\n"
     ]
    }
   ],
   "source": [
    "Y_pred_nn = model.predict(X_test)"
   ]
  },
  {
   "cell_type": "code",
   "execution_count": 55,
   "id": "e22727a1",
   "metadata": {},
   "outputs": [
    {
     "data": {
      "text/plain": [
       "(205, 1)"
      ]
     },
     "execution_count": 55,
     "metadata": {},
     "output_type": "execute_result"
    }
   ],
   "source": [
    "Y_pred_nn.shape"
   ]
  },
  {
   "cell_type": "code",
   "execution_count": 56,
   "id": "fcdfaf4f",
   "metadata": {},
   "outputs": [],
   "source": [
    "rounded = [round(x[0]) for x in Y_pred_nn]\n",
    "\n",
    "Y_pred_nn = rounded"
   ]
  },
  {
   "cell_type": "code",
   "execution_count": 57,
   "id": "5c8165f6",
   "metadata": {},
   "outputs": [
    {
     "name": "stdout",
     "output_type": "stream",
     "text": [
      "The accuracy score achieved using Neural Network is: 86.34 %\n"
     ]
    }
   ],
   "source": [
    "score_nn = round(accuracy_score(Y_pred_nn,Y_test)*100,2)\n",
    "\n",
    "print(\"The accuracy score achieved using Neural Network is: \"+str(score_nn)+\" %\")\n",
    "\n",
    "#Note: Accuracy of 85% can be achieved on the test set, by setting epochs=2000, and number of nodes = 11. \n"
   ]
  },
  {
   "cell_type": "code",
   "execution_count": null,
   "id": "2415d46c",
   "metadata": {},
   "outputs": [],
   "source": []
  }
 ],
 "metadata": {
  "kernelspec": {
   "display_name": "Python 3 (ipykernel)",
   "language": "python",
   "name": "python3"
  },
  "language_info": {
   "codemirror_mode": {
    "name": "ipython",
    "version": 3
   },
   "file_extension": ".py",
   "mimetype": "text/x-python",
   "name": "python",
   "nbconvert_exporter": "python",
   "pygments_lexer": "ipython3",
   "version": "3.9.12"
  }
 },
 "nbformat": 4,
 "nbformat_minor": 5
}
